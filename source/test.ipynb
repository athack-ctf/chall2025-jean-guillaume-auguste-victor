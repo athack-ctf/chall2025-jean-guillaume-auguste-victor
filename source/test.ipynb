{
 "cells": [
  {
   "cell_type": "code",
   "execution_count": 1,
   "metadata": {},
   "outputs": [
    {
     "name": "stdout",
     "output_type": "stream",
     "text": [
      "First 546\n",
      "Second 480\n",
      "Third 412\n",
      "Fourth 440\n",
      "Fifth 312\n",
      "Sixth 356\n",
      "Seventh 314\n"
     ]
    }
   ],
   "source": [
    "password = 'At_u5C!'\n",
    "pc = []\n",
    "\n",
    "for c in password:\n",
    "    pc.append(ord(c))\n",
    "\n",
    "# first equation:\n",
    "print(\"First\", pc[0] + pc[1] + pc[2] + pc[3] + pc[4] + pc[5] + pc[6])\n",
    "\n",
    "# second equation:\n",
    "print(\"Second\", pc[0] + pc[1] + pc[2] + pc[3] + pc[4] + pc[5] - pc[6])\n",
    "\n",
    "# third\n",
    "print(\"Third\", pc[0] + pc[1] + pc[2] + pc[3] + pc[4] - pc[5] + pc[6])\n",
    "\n",
    "# fourth\n",
    "print(\"Fourth\", pc[0] + pc[1] + pc[2] + pc[3] - pc[4] + pc[5] + pc[6])\n",
    "\n",
    "# fourth\n",
    "print(\"Fifth\", pc[0] + pc[1] + pc[2] - pc[3] + pc[4] + pc[5] + pc[6])\n",
    "\n",
    "# fourth\n",
    "print(\"Sixth\", pc[0] + pc[1] - pc[2] + pc[3] + pc[4] + pc[5] + pc[6])\n",
    "\n",
    "# fourth\n",
    "print(\"Seventh\", pc[0] - pc[1] + pc[2] + pc[3] + pc[4] + pc[5] + pc[6])\n",
    "\n"
   ]
  },
  {
   "cell_type": "code",
   "execution_count": 2,
   "metadata": {},
   "outputs": [
    {
     "name": "stdout",
     "output_type": "stream",
     "text": [
      "Congrats!\n",
      "Fail!\n"
     ]
    }
   ],
   "source": [
    "password = 'abcs'\n",
    "pc = []\n",
    "\n",
    "for c in password:\n",
    "    pc.append(ord(c)- 96)\n",
    "\n",
    "if (pc[0] + pc[1] + pc[2] + pc[3] == 25):\n",
    "    if (pc[0] + pc[1] + pc[2] - pc[3] == -13):\n",
    "        if (pc[0] + pc[1] - pc[2] + pc[3] == 19):\n",
    "            if (pc[0] - pc[1] + pc[2] + pc[3] == 21):\n",
    "                print(\"Congrats!\")\n",
    "\n",
    "print(\"Fail!\")"
   ]
  },
  {
   "cell_type": "code",
   "execution_count": null,
   "metadata": {},
   "outputs": [],
   "source": []
  }
 ],
 "metadata": {
  "kernelspec": {
   "display_name": "Python 3 (ipykernel)",
   "language": "python",
   "name": "python3"
  },
  "language_info": {
   "codemirror_mode": {
    "name": "ipython",
    "version": 3
   },
   "file_extension": ".py",
   "mimetype": "text/x-python",
   "name": "python",
   "nbconvert_exporter": "python",
   "pygments_lexer": "ipython3",
   "version": "3.12.8"
  }
 },
 "nbformat": 4,
 "nbformat_minor": 4
}
